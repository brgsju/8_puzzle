{
  "nbformat": 4,
  "nbformat_minor": 0,
  "metadata": {
    "colab": {
      "provenance": []
    },
    "kernelspec": {
      "name": "python3",
      "display_name": "Python 3"
    },
    "language_info": {
      "name": "python"
    }
  },
  "cells": [
    {
      "cell_type": "markdown",
      "source": [
        "#Trabalho de IA 2 - 8 puzzle\n",
        "\n",
        "##O objetivo desse trabalho é resolver o 8 puzzle utilizando outras 2 formas de diferentes algortimos: A* e busca gulosa.\n",
        "\n",
        "####Prof. Leandro Alvim\n",
        "####Júlia da Silva Borges"
      ],
      "metadata": {
        "id": "TlRsqzJeSiY1"
      }
    },
    {
      "cell_type": "markdown",
      "source": [
        "#Algoritmo A*"
      ],
      "metadata": {
        "id": "mAvgKYNgTDcj"
      }
    },
    {
      "cell_type": "code",
      "source": [
        "import random\n",
        "import time\n",
        "import tracemalloc\n",
        "import heapq\n",
        "from collections import deque"
      ],
      "metadata": {
        "id": "DXv_kXltMNk2"
      },
      "execution_count": null,
      "outputs": []
    },
    {
      "cell_type": "markdown",
      "source": [
        "Importações necessárias"
      ],
      "metadata": {
        "id": "fQOrupagMQjm"
      }
    },
    {
      "cell_type": "markdown",
      "source": [
        "Função heuristica_Manhatan"
      ],
      "metadata": {
        "id": "PxU8q4kkMJY0"
      }
    },
    {
      "cell_type": "code",
      "source": [
        "def heuristica_Manhatan(estado):\n",
        "    objetivo = {\n",
        "        1: (0, 0), 2: (0, 1), 3: (0, 2),\n",
        "        4: (1, 0), 5: (1, 1), 6: (1, 2),\n",
        "        7: (2, 0), 8: (2, 1), 0: (2, 2)\n",
        "    }\n"
      ],
      "metadata": {
        "id": "jBd_AXVcTJQO"
      },
      "execution_count": null,
      "outputs": []
    },
    {
      "cell_type": "markdown",
      "source": [
        "- *objetivo*: Dicionário que define a posição correta (linha, coluna) de cada número no estado objetivo.\n",
        "\n",
        "Para cada célula (i, j) do tabuleiro:\n",
        "\n",
        "Se não for o zero, calcula a distância de Manhattan até sua posição correta:\n",
        "\n",
        "dist\n",
        "Soma essas distâncias para todas as peças — isso é h(n)."
      ],
      "metadata": {
        "id": "lTenYh_bMEHW"
      }
    },
    {
      "cell_type": "code",
      "source": [
        "    distancia = 0\n",
        "        for i in range(3):\n",
        "            for j in range(3):\n",
        "                valor = estado[i][j]\n",
        "                if valor != 0:\n",
        "                    objetivo_i, objetivo_j = objetivo[valor]\n",
        "                    distancia += abs(i - objetivo_i) + abs(j - objetivo_j)\n",
        "        return distancia"
      ],
      "metadata": {
        "id": "-AfmurYKM0Ei"
      },
      "execution_count": null,
      "outputs": []
    },
    {
      "cell_type": "markdown",
      "source": [
        "- Para cada célula (i, j) do tabuleiro:\n",
        "\n",
        " - Se não for o zero, calcula a distância de Manhattan até sua posição correta:\n",
        "\n",
        "   **distancia += abs(i - objetivo_i) + abs(j - objetivo_j)**\n",
        "\n",
        "- A soma essas distâncias para todas as peças é *h(n).*"
      ],
      "metadata": {
        "id": "9FuDMmMzM4C7"
      }
    },
    {
      "cell_type": "markdown",
      "source": [
        "Função A*"
      ],
      "metadata": {
        "id": "uzpIv6jqNkju"
      }
    },
    {
      "cell_type": "code",
      "source": [
        "\n",
        "def a_estrela(estado_inicial):\n",
        "    prioridade = []\n",
        "    heapq.heappush(prioridade, (heuristica_Manhatan(estado_inicial), 0, estado_inicial))\n",
        "\n",
        "    estado_anterior = {}\n",
        "    custo_real = {tuple(map(tuple, estado_inicial)): 0}\n",
        "    estados_visitados = set()\n",
        "\n",
        "    node_expanded = 0\n",
        "    max_depth = 0\n",
        "    max_fringe_size = 1\n",
        "\n"
      ],
      "metadata": {
        "id": "qlGvhD49MHvU"
      },
      "execution_count": null,
      "outputs": []
    },
    {
      "cell_type": "markdown",
      "source": [
        "- prioridade: fila de prioridade com tuplas (f, g, estado)\n",
        "\n",
        "  - f = g + h: custo total estimado\n",
        "\n",
        "  - g = 0 no início, pois ainda não fizemos nenhum movimento\n",
        "\n",
        "- heapq.heappush insere f, g e o estado inicial na fila *prioridade*\n",
        "\n",
        "- estado_inicial: matriz 3x3 com os números\n",
        "\n",
        "- estado_anterior: para reconstruir o caminho da solução.\n",
        "\n",
        "- custo_real: custo real mínimo conhecido até cada estado.\n",
        "\n",
        "  - Os estados são convertidos para tuplas de tuplas para poderem ser usados como chaves de dicionário.\n",
        "\n",
        "- estados_visitados: conjunto para evitar reexplorar estados já expandidos.\n",
        "\n",
        "- node_expanded = quantos nós foram expandidos\n",
        "- max_depth =  profundidade máxima da árvore de busca\n",
        "- max_fringe_size = maior número de nós simultaneamente na fila de prioridade"
      ],
      "metadata": {
        "id": "1aASZ0ExNzFO"
      }
    },
    {
      "cell_type": "code",
      "source": [
        "    while prioridade:\n",
        "                _, custo_atual, estado_atual = heapq.heappop(prioridade)\n",
        "                estado_atual_tupla = tuple(map(tuple, estado_atual))\n",
        "\n",
        "                if estado_atual_tupla in estados_visitados:\n",
        "                    continue\n",
        "\n",
        "                estados_visitados.add(estado_atual_tupla)\n",
        "                node_expanded += 1"
      ],
      "metadata": {
        "id": "woVhKU35RB9f"
      },
      "execution_count": null,
      "outputs": []
    },
    {
      "cell_type": "markdown",
      "source": [
        "- Enquanto houver elementos na fila de prioridade, continua expandindo nós.\n",
        "\n",
        "  - Remove o estado com menor f(n) da fila (prioridade).\n",
        "\n",
        "  - _: ignora o valor f (heurística + custo real), pois não será usado aqui.\n",
        "  - custo_atual: é o custo real g(n) para chegar até esse estado.\n",
        "  - estado_atual: é o estado do tabuleiro (matriz 3x3) a ser expandido.\n",
        "  - Converte a matriz (listas de listas) em uma tupla imutável.\n",
        "\n",
        "  - Se o estado já foi visitado, ele é ignorado.\n",
        "  - O estado_atual é registrado como \"visitado\"\n",
        "  - Conta quantos nós (estados) foram processados ao todo.\n",
        "\n"
      ],
      "metadata": {
        "id": "4W48j8YgN3vi"
      }
    },
    {
      "cell_type": "code",
      "source": [
        "        if estado_esperado(estado_atual):\n",
        "                return (caminho_total(estado_anterior, estado_atual), node_expanded, custo_atual, max_depth, len(prioridade), max_fringe_size)\n",
        "\n",
        "            for vizinho in vizinhos(estado_atual):\n",
        "                tupla_vizinho = tuple(map(tuple, vizinho))\n",
        "                novo_custo = custo_real[estado_atual_tupla] + 1"
      ],
      "metadata": {
        "id": "H8KEmVWBRJbB"
      },
      "execution_count": null,
      "outputs": []
    },
    {
      "cell_type": "markdown",
      "source": [
        "- Se o estado atual for o final ([1,2,3],[4,5,6],[7,8,0]), a função retorna a solução:\n",
        "  - O caminho até a solução.\n",
        "  - Quantos nós foram expandidos.\n",
        "  - A profundidade (custo).\n",
        "  - Profundidade máxima atingida.\n",
        "  - Tamanho da fila atual.\n",
        "  - Tamanho máximo da fila ao longo do processo.\n",
        "\n",
        "- Gera todos os estados vizinhos possíveis:\n",
        "  - A função vizinhos retorna uma lista de estados possíveis com 1 movimento a partir do estado atual.\n",
        "  - Converte a matriz para tupla, para poder usar em dicionários e sets.\n",
        "  - Calcula novo custo: O custo real até o vizinho é 1 a mais que o do estado atual. (Cada movimento custa 1.)"
      ],
      "metadata": {
        "id": "bbvU5_cwRNnC"
      }
    },
    {
      "cell_type": "code",
      "source": [
        "            if tupla_vizinho not in custo_real or novo_custo < custo_real[tupla_vizinho]:\n",
        "                    custo_real[tupla_vizinho] = novo_custo\n",
        "                    f = novo_custo + heuristica_Manhatan(vizinho)\n",
        "                    heapq.heappush(prioridade, (f, novo_custo, vizinho))\n",
        "                    estado_anterior[tupla_vizinho] = estado_atual_tupla\n",
        "                    max_depth = max(max_depth, novo_custo)\n",
        "                    max_fringe_size = max(max_fringe_size, len(prioridade))\n",
        "\n",
        "        return None, node_expanded, 0, max_depth, 0, max_fringe_size"
      ],
      "metadata": {
        "id": "Uje0LLoWRRmR"
      },
      "execution_count": null,
      "outputs": []
    },
    {
      "cell_type": "markdown",
      "source": [
        "- Se for a primeira vez que esse vizinho aparece OU o novo caminho é mais curto do que o anterior:\n",
        "  -  Então atualiza as informações dele.\n",
        "  - Calcula f(n) = g(n) + h(n), e adiciona o vizinho ao heap.\n",
        "  - Salva que o vizinho veio do estado atual (usado para reconstruir o caminho depois).\n",
        "  - max_depth: a maior profundidade já alcançada durante a busca\n",
        "  - max_fringe_size: maior tamanho que a fila (fringe) atingiu.\n",
        "\n",
        "- Retorna os dados com a solução como None."
      ],
      "metadata": {
        "id": "W9hAIhq1RUwS"
      }
    },
    {
      "cell_type": "markdown",
      "source": [
        "Função Estado esperado"
      ],
      "metadata": {
        "id": "FKde2dPnTrod"
      }
    },
    {
      "cell_type": "code",
      "source": [
        "def estado_esperado(estado_atual):\n",
        "    esperado = [[1, 2, 3], [4, 5, 6], [7, 8, 0]]\n",
        "    return estado_atual == esperado"
      ],
      "metadata": {
        "id": "Unr3erD6NxI-"
      },
      "execution_count": null,
      "outputs": []
    },
    {
      "cell_type": "markdown",
      "source": [
        "- Essa função verifica se o estado atual do puzzle é o estado final desejado (meta).\n",
        "  - Define o estado **esperado** do 8-puzzle.\n",
        "  - Retorna True se o estado atual for exatamente igual ao objetivo."
      ],
      "metadata": {
        "id": "gIGquIF0bISo"
      }
    },
    {
      "cell_type": "markdown",
      "source": [
        "Função Vizinhos"
      ],
      "metadata": {
        "id": "ltKAeTgxc3V9"
      }
    },
    {
      "cell_type": "code",
      "source": [
        "def vizinhos(estado_atual):\n",
        "    vizinho = []\n",
        "    row, col = next((r, c) for r in range(3) for c in range(3) if estado_atual[r][c] == 0)"
      ],
      "metadata": {
        "id": "3TLE3Ge5bMIQ"
      },
      "execution_count": null,
      "outputs": []
    },
    {
      "cell_type": "markdown",
      "source": [
        "-  Inicializa a lista que vai guardar os estados vizinhos gerados.\n",
        "- Faz um loop por todas as posições (r, c) e retorna a primeira onde estado_atual[r][c] == 0."
      ],
      "metadata": {
        "id": "T08flD6Rb42w"
      }
    },
    {
      "cell_type": "code",
      "source": [
        "    for dr, dc in [(-1, 0), (1, 0), (0, -1), (0, 1)]:\n",
        "            novo_r, novo_c = row + dr, col + dc\n",
        "            if 0 <= novo_r < 3 and 0 <= novo_c < 3:\n",
        "                novo_estado = [linha[:] for linha in estado_atual]\n",
        "                novo_estado[row][col], novo_estado[novo_r][novo_c] = novo_estado[novo_r][novo_c], novo_estado[row][col]\n",
        "                vizinho.append(novo_estado)\n",
        "\n",
        "    return vizinho"
      ],
      "metadata": {
        "id": "W-NZ3Nk8b5mp"
      },
      "execution_count": null,
      "outputs": []
    },
    {
      "cell_type": "markdown",
      "source": [
        "-  Define os 4 **movimentos possíveis**: cima, baixo, esquerda e direita.\n",
        "  - Calcula a nova posição do 0 após o movimento.\n",
        "  - Garante que a nova posição está **dentro dos limites do tabuleiro 3x3**.\n",
        "    - Cria uma cópia do estado atual.\n",
        "    - Troca a posição do `0` com o número na nova posição\n",
        "    - Adiciona o novo estado gerado à lista de vizinhos.\n",
        "- Retorna a lista com todos os **estados alcançáveis** a partir do estado atual com 1 movimento."
      ],
      "metadata": {
        "id": "Rq-28V-Gbuag"
      }
    },
    {
      "cell_type": "markdown",
      "source": [
        "Função Caminho Total"
      ],
      "metadata": {
        "id": "mILBnNIFc5yf"
      }
    },
    {
      "cell_type": "code",
      "source": [
        "def caminho_total(estado_anterior, estado_atual):\n",
        "    caminho = [estado_atual]\n",
        "    while tuple(map(tuple, estado_atual)) in estado_anterior:\n",
        "        estado_atual = [list(row) for row in estado_anterior[tuple(map(tuple, estado_atual))]]\n",
        "        caminho.append(estado_atual)\n",
        "    return caminho[::-1]"
      ],
      "metadata": {
        "id": "DZXl3-jmbuvo"
      },
      "execution_count": null,
      "outputs": []
    },
    {
      "cell_type": "markdown",
      "source": [
        "- Reconstrói o **caminho da solução**, do estado final até o inicial, com base no dicionário `estado_anterior`.\n",
        "  - Começa com o estado final.\n",
        "  - Enquanto esse estado tiver um “pai”, continua voltando.\n",
        "    - Obtém o estado anterior (pai) e o transforma de volta para matriz.\n",
        "    - Adiciona o estado ao caminho.\n",
        "- Retorna o caminho construído de trás para frente.\n",
        "\n"
      ],
      "metadata": {
        "id": "Z7wJGeZpcvG2"
      }
    },
    {
      "cell_type": "markdown",
      "source": [
        "Função É Solúvel"
      ],
      "metadata": {
        "id": "6fVTK5h1eX_C"
      }
    },
    {
      "cell_type": "code",
      "source": [
        "def eh_soluvel(puzzle):\n",
        "    flat_puzzle = [num for row in puzzle for num in row if num != 0]\n",
        "    inversoes = 0\n",
        "    for i in range(len(flat_puzzle)):\n",
        "        for j in range(i + 1, len(flat_puzzle)):\n",
        "            if flat_puzzle[i] > flat_puzzle[j]:\n",
        "                inversoes += 1\n",
        "    return inversoes % 2 == 0"
      ],
      "metadata": {
        "id": "48KbQfRlcvZB"
      },
      "execution_count": null,
      "outputs": []
    },
    {
      "cell_type": "markdown",
      "source": [
        "- Transforma a matriz para uma lista linear e exclui o `0` (espaço vazio), pois ele **não conta** nas inversões.\n",
        "- Contador de quantas inversões existem no puzzle.\n",
        "- A regra do 8-puzzle é um puzzle só é solúvel se o número de inversões for par.\n",
        "  - Se for par, retorna True, caso contrário, False."
      ],
      "metadata": {
        "id": "VhV-XA97eeFB"
      }
    },
    {
      "cell_type": "markdown",
      "source": [
        "Função Gerar 8 puzzle"
      ],
      "metadata": {
        "id": "k-SagLl7ejqK"
      }
    },
    {
      "cell_type": "code",
      "source": [
        "def gerar_8puzzle():\n",
        "    while True:\n",
        "        elementos = list(range(9))\n",
        "        random.shuffle(elementos)\n",
        "        puzzle = [elementos[i:i+3] for i in range(0, 9, 3)]\n",
        "        if eh_soluvel(puzzle):\n",
        "            print(\"Estado inicial gerado:\")\n",
        "            for linha in puzzle:\n",
        "                print(linha)\n",
        "            return puzzle"
      ],
      "metadata": {
        "id": "ZrWHsQUleeao"
      },
      "execution_count": null,
      "outputs": []
    },
    {
      "cell_type": "markdown",
      "source": [
        "- Entra em um loop infinito até gerar um puzzle solúvel.\n",
        "  - Cria uma lista com os números de 0 a 8.\n",
        "  - Embaralha os elementos aleatoriamente.\n",
        "  - Converte a lista em uma matriz 3x3.\n",
        "  - Verifica se o puzzle gerado é solúvel\n",
        "    - Imprime o estado inicial gerado.\n",
        "  - Retorna o puzzle solúvel gerado."
      ],
      "metadata": {
        "id": "A69ivhHgfKrA"
      }
    },
    {
      "cell_type": "code",
      "source": [
        "estado_inicial = gerar_8puzzle()\n",
        "inicio = time.time()\n",
        "solucao, nos_expandidos, search_depth, max_search_depth, fringe_size, max_fringe_size = a_estrela(estado_inicial)\n",
        "fim = time.time()"
      ],
      "metadata": {
        "id": "kgvcScWrfLAP"
      },
      "execution_count": null,
      "outputs": []
    },
    {
      "cell_type": "markdown",
      "source": [
        "- Gera um estado inicial solúvel.\n",
        "- Marca o tempo de início da execução.\n",
        "- Chama o algoritmo A* passando o estado inicial e retorna `solucao`, `nos_expandidos`, `search_depth`,`max_search_depth` , `fringe_size` e `max_fringe_size`.\n",
        "- Marca o tempo final da execução."
      ],
      "metadata": {
        "id": "Mp_9g_bLflY2"
      }
    },
    {
      "cell_type": "code",
      "source": [
        "if solucao:\n",
        "    print(f\"\\ncost_of_path: {len(solucao) - 1}\")\n",
        "    print(\"\\nPasso a passo da solução:\\n\")\n",
        "    for passo, estado in enumerate(solucao):\n",
        "        print(f\"Passo {passo}:\")\n",
        "        for linha in estado:\n",
        "            print(\" \".join(\" \" if x == 0 else str(x) for x in linha))\n",
        "        print(\"--------\")\n",
        "\n",
        "    print(f\"nodes_expanded: {nos_expandidos}\")\n",
        "    print(f\"running_time: {fim - inicio:.4f}\")\n",
        "    print(f\"search depth: {search_depth}\")\n",
        "    print(f\"max search depth: {max_search_depth}\")\n",
        "    print(f\"fringe_size: {fringe_size}\")\n",
        "    print(f\"max_fringe_size: {max_fringe_size}\")\n",
        "\n",
        "else:\n",
        "    print(\"Não foi possível encontrar uma solução.\")"
      ],
      "metadata": {
        "id": "Wbfv_K5Gflzr"
      },
      "execution_count": null,
      "outputs": []
    },
    {
      "cell_type": "markdown",
      "source": [
        "- Se uma solução foi encontrada:\n",
        "  - Imprime o custo da solução.\n",
        "  - Mostra cada passo da solução.\n",
        "  - Mostra:\n",
        "    - Quantos nós foram expandidos.\n",
        "    - Tempo de execução.\n",
        "    - Profundidade da solução.\n",
        "    - Profundidade máxima atingida.\n",
        "    - Tamanho atual e máximo da fila de prioridade (fringe)."
      ],
      "metadata": {
        "id": "oLGWF8Pdg4Ao"
      }
    },
    {
      "cell_type": "code",
      "source": [
        "tracemalloc.start()\n",
        "a_estrela(estado_inicial)\n",
        "memoria_usada = tracemalloc.get_traced_memory()[1]\n",
        "tracemalloc.stop()\n",
        "print(f\"max_ram_usage: {memoria_usada}\")"
      ],
      "metadata": {
        "id": "jYIcNcrLg5_5"
      },
      "execution_count": null,
      "outputs": []
    },
    {
      "cell_type": "markdown",
      "source": [
        "- Inicia o monitoramento de uso de memória.\n",
        "- Executa novamente o A* apenas para medir o uso de memória.\n",
        "- Captura o pico de uso de memória (em bytes).\n",
        "- Encerra o monitoramento de memória.\n",
        "- Exibe o uso máximo de RAM durante a execução do A*."
      ],
      "metadata": {
        "id": "N8a53-s8hX04"
      }
    },
    {
      "cell_type": "markdown",
      "source": [
        "#Algoritmo Busca Gulosa"
      ],
      "metadata": {
        "id": "aW4oLgK8TLKc"
      }
    },
    {
      "cell_type": "code",
      "source": [
        "import random\n",
        "import time\n",
        "import tracemalloc\n",
        "import heapq\n",
        "from collections import deque\n",
        "\n",
        "\n",
        "def heuristica(estado):\n",
        "    objetivo = {\n",
        "        1: (0, 0), 2: (0, 1), 3: (0, 2),\n",
        "        4: (1, 0), 5: (1, 1), 6: (1, 2),\n",
        "        7: (2, 0), 8: (2, 1), 0: (2, 2)\n",
        "    }\n",
        "    distancia = 0\n",
        "    for i in range(3):\n",
        "        for j in range(3):\n",
        "            valor = estado[i][j]\n",
        "            if valor != 0:\n",
        "                objetivo_i, objetivo_j = objetivo[valor]\n",
        "                distancia += abs(i - objetivo_i) + abs(j - objetivo_j)\n",
        "    return distancia\n"
      ],
      "metadata": {
        "id": "NKkcAoGnTOeF"
      },
      "execution_count": null,
      "outputs": []
    },
    {
      "cell_type": "markdown",
      "source": [
        "- Define a função heurística usada para estimar o custo até o estado final.\n",
        "  - Define as posições corretas de cada número no puzzle resolvido.\n",
        "  - Inicializa a distância total acumulada.\n",
        "  - Percorre todas as posições (linha i, coluna j) da matriz do estado atual.\n",
        "    - Pega o valor naquela posição e ignora o 0\n",
        "      - Recupera a posição correta do valor com base no dicionário objetivo.\n",
        "      - Soma a distância de Manhattan do valor à sua posição correta.\n",
        "\n",
        "  - Retorna a soma total das distâncias."
      ],
      "metadata": {
        "id": "VO68-q2yjdJS"
      }
    },
    {
      "cell_type": "markdown",
      "source": [
        "Função Busca Gulosa"
      ],
      "metadata": {
        "id": "HIDmDD30jiaZ"
      }
    },
    {
      "cell_type": "code",
      "source": [
        "def busca_gulosa(estado_inicial):\n",
        "    objetivo = [[1,2,3],[4,5,6],[7,8,0]]\n",
        "    objetivo_tuple = tuple(map(tuple, objetivo))\n",
        "\n",
        "    fila = []\n",
        "    heapq.heappush(fila, (heuristica(estado_inicial), estado_inicial))\n",
        "\n",
        "    visitados = set()\n",
        "    estado_anterior = {}\n",
        "    profundidade = {tuple(map(tuple, estado_inicial)): 0}\n",
        "\n",
        "    max_fringe_size = 1\n",
        "    node_expanded = 0\n",
        "    max_depth = 0\n"
      ],
      "metadata": {
        "id": "eEQZ50GIjdq5"
      },
      "execution_count": null,
      "outputs": []
    },
    {
      "cell_type": "markdown",
      "source": [
        "- Define o estado final desejado e o converte em tuplas para ser usado como chave em dicionários.\n",
        "- Cria a fila de prioridade e insere o estado inicial com sua heurística como prioridade.\n",
        "- visitados: guarda os estados já expandidos.\n",
        "- estado_anterior: armazena os pais de cada estado para reconstruir o caminho.\n",
        "- profundidade: profundidade de cada estado visitado (quantos passos desde o início).\n",
        "- Inicializa:\n",
        "  - max_fringe_size: maior tamanho que a fila atingiu.\n",
        "  - node_expanded: nós expandidos.\n",
        "  - max_depth: profundidade máxima atingida.\n",
        "\n"
      ],
      "metadata": {
        "id": "nj16dZcAjhTg"
      }
    },
    {
      "cell_type": "code",
      "source": [
        "    while fila:\n",
        "        _, estado_atual = heapq.heappop(fila)\n",
        "        node_expanded += 1\n",
        "\n",
        "        estado_tupla = tuple(map(tuple, estado_atual))\n",
        "\n",
        "        if estado_tupla == objetivo_tuple:\n",
        "            return caminho_total(estado_anterior, estado_atual), node_expanded, profundidade[estado_tupla], max_depth, len(fila), max_fringe_size\n",
        "\n",
        "        if estado_tupla in visitados:\n",
        "            continue\n",
        "\n",
        "        visitados.add(estado_tupla)\n",
        "        profundidade_atual = profundidade[estado_tupla]"
      ],
      "metadata": {
        "id": "gyFP7DkIkUgy"
      },
      "execution_count": null,
      "outputs": []
    },
    {
      "cell_type": "markdown",
      "source": [
        "- Enquanto houver estados na fila:\n",
        "  - Remove o estado com menor heurística da fila.\n",
        "  - Incrementa o número de nós expandidos.\n",
        "  - Converte o estado atual para tupla imutável para ser usado como chave.\n",
        "  - Verifica se o estado atual é o estado objetivo:\n",
        "    - Retorna: O caminho da solução, nós expandidos e a profundidade da solução.\n",
        "  - Pula esse estado se ele já foi visitado antes.\n",
        "  - Marca o estado como visitado e pega sua profundidade atual.\n"
      ],
      "metadata": {
        "id": "3kwWFCAlkU0d"
      }
    },
    {
      "cell_type": "code",
      "source": [
        "        for vizinho in vizinhos(estado_atual):\n",
        "            tupla_vizinho = tuple(map(tuple, vizinho))\n",
        "            if tupla_vizinho not in visitados:\n",
        "                estado_anterior[tupla_vizinho] = estado_tupla\n",
        "                profundidade[tupla_vizinho] = profundidade_atual + 1\n",
        "                prioridade = heuristica(vizinho)\n",
        "                heapq.heappush(fila, (prioridade, vizinho))\n",
        "\n",
        "                max_depth = max(max_depth, profundidade[tupla_vizinho])\n",
        "                max_fringe_size = max(max_fringe_size, len(fila))\n",
        "\n",
        "    return None, node_expanded, 0, max_depth, 0, max_fringe_size"
      ],
      "metadata": {
        "id": "IWo1NZnblDdP"
      },
      "execution_count": null,
      "outputs": []
    },
    {
      "cell_type": "markdown",
      "source": [
        "- Para cada estado vizinho (movimento possível), verifica se ele ainda não foi visitado.\n",
        "  - Salva quem gerou esse vizinho e atualiza sua profundidade.\n",
        "  - Calcula a heurística do vizinho e o insere na fila com essa prioridade.\n",
        "  - Atualiza o valor da profundidade máxima e tamanho máximo da fila.\n",
        "- Se sair do laço sem achar solução, retorna que não foi possível resolver."
      ],
      "metadata": {
        "id": "WW6h1nEHlDp3"
      }
    },
    {
      "cell_type": "markdown",
      "source": [
        "A partir daqui, as funções se repetem."
      ],
      "metadata": {
        "id": "_6JKVi3YihLD"
      }
    },
    {
      "cell_type": "code",
      "source": [
        "def caminho_total(estado_anterior, estado_atual):\n",
        "    caminho = [estado_atual]\n",
        "    while tuple(map(tuple, estado_atual)) in estado_anterior:\n",
        "        estado_atual = [list(row) for row in estado_anterior[tuple(map(tuple, estado_atual))]]\n",
        "        caminho.append(estado_atual)\n",
        "    return caminho[::-1]\n",
        "\n",
        "def vizinhos(estado_atual):\n",
        "    vizinho = []\n",
        "    row, col = next((r, c) for r in range(3) for c in range(3) if estado_atual[r][c] == 0)\n",
        "    for dr, dc in [(-1, 0), (1, 0), (0, -1), (0, 1)]:\n",
        "        novo_r, novo_c = row + dr, col + dc\n",
        "        if 0 <= novo_r < 3 and 0 <= novo_c < 3:\n",
        "            novo_estado = [linha[:] for linha in estado_atual]\n",
        "            novo_estado[row][col], novo_estado[novo_r][novo_c] = novo_estado[novo_r][novo_c], novo_estado[row][col]\n",
        "            vizinho.append(novo_estado)\n",
        "    return vizinho\n",
        "\n",
        "def eh_soluvel(puzzle):\n",
        "    flat_puzzle = [num for row in puzzle for num in row if num != 0]\n",
        "    inversoes = 0\n",
        "    for i in range(len(flat_puzzle)):\n",
        "        for j in range(i + 1, len(flat_puzzle)):\n",
        "            if flat_puzzle[i] > flat_puzzle[j]:\n",
        "                inversoes += 1\n",
        "    return inversoes % 2 == 0\n",
        "\n",
        "def gerar_8puzzle():\n",
        "    while True:\n",
        "        elementos = list(range(9))\n",
        "        random.shuffle(elementos)\n",
        "        puzzle = [elementos[i:i+3] for i in range(0, 9, 3)]\n",
        "        if eh_soluvel(puzzle):\n",
        "            print(\"Estado inicial gerado:\")\n",
        "            for linha in puzzle:\n",
        "                print(linha)\n",
        "            return puzzle\n",
        "\n",
        "\n",
        "estado_inicial = gerar_8puzzle()\n",
        "\n",
        "inicio = time.time()\n",
        "solucao, nos_expandidos, search_depth, max_search_depth, fringe_size, max_fringe_size = busca_gulosa(estado_inicial)\n",
        "fim = time.time()\n",
        "\n",
        "if solucao:\n",
        "    print(f\"\\ncost_of_path: {len(solucao) - 1}\")\n",
        "    print(\"\\nPasso a passo da solução:\\n\")\n",
        "    for passo, estado in enumerate(solucao):\n",
        "        print(f\"Passo {passo}:\")\n",
        "        for linha in estado:\n",
        "            print(\" \".join(\" \" if x == 0 else str(x) for x in linha))\n",
        "        print(\"--------\")\n",
        "\n",
        "    print(f\"nodes_expanded: {nos_expandidos}\")\n",
        "    print(f\"running_time: {fim - inicio:.4f}\")\n",
        "    print(f\"search depth: {search_depth}\")\n",
        "    print(f\"max search depth: {max_search_depth}\")\n",
        "    print(f\"fringe_size: {fringe_size}\")\n",
        "    print(f\"max_fringe_size: {max_fringe_size}\")\n",
        "else:\n",
        "    print(\"Não foi possível encontrar uma solução.\")\n",
        "\n",
        "tracemalloc.start()\n",
        "busca_gulosa(estado_inicial)\n",
        "memoria_usada = tracemalloc.get_traced_memory()[1]\n",
        "tracemalloc.stop()\n",
        "print(f\"max_ram_usage: {memoria_usada}\")"
      ],
      "metadata": {
        "id": "yyH1M8U2ihqp"
      },
      "execution_count": null,
      "outputs": []
    },
    {
      "cell_type": "markdown",
      "source": [
        "#Relatório Final"
      ],
      "metadata": {
        "id": "vVyptY0mTSD5"
      }
    },
    {
      "cell_type": "markdown",
      "source": [
        "## Tabela Comparativa dos 5 Algoritmos\n",
        "\n",
        "| Algoritmo  | Custo Médio (Aprox.) | Nós Expandidos | Tempo (s) | Profundidade Média | RAM (B) | Solução ótima | Uso de Memória |\n",
        "| ---------- | -------------------- | -------------- | --------- | ------------------ | ------- | ------------- | -------------- |\n",
        "| **BFS**    | 21.67                | 90.185         | 2.80      | 21.67              | 37.2 MB | ✅ Sim         | Alta           |\n",
        "| **DFS**    | 40.431               | 50.072         | 7.64      | 40.431             | 69.1 MB | ❌ Não         | Alta           |\n",
        "| **IDFS**   | 29.67                | 29.927         | 22.91     | 29.67              | 24.4 MB | ✅ Sim         | Média          |\n",
        "| **A\\***    | \\~18.33              | 1.384          | 0.088     | 18.33              | 1.3 MB  | ✅ Sim         | Baixa          |\n",
        "| **Gulosa** | \\~33                 | 75             | 0.0015    | 33                 | 64 KB   | ❌ Não         | Muito baixa    |\n",
        "\n"
      ],
      "metadata": {
        "id": "AOkINfAlmy4r"
      }
    },
    {
      "cell_type": "markdown",
      "source": [
        "## Análise Comparativa\n",
        "\n",
        "BFS continua sendo confiável para soluções ótimas, mas com alto custo de memória e tempo relativamente maior. É robusto, mas pesado.\n",
        "\n",
        "DFS foi o pior algoritmo no geral: soluções profundas demais, alto custo, e ainda assim sem garantia de otimalidade.\n",
        "\n",
        "IDFS manteve a otimalidade como o BFS, mas com menor uso de memória. No entanto, o tempo de execução foi o mais alto entre todos.\n",
        "\n",
        "A* encontrou soluções ótimas, com poucos nós expandidos, tempo baixo, e memória muito bem gerida. É o melhor algoritmo, considerando eficiência e qualidade da solução.\n",
        "\n",
        "Busca Gulosa foi o mais rápido e o que menos expandiu nós, mas não garante a melhor solução. Em problemas simples ou onde a qualidade da solução não é crítica, pode ser útil.\n"
      ],
      "metadata": {
        "id": "W9KE4x0pm5lm"
      }
    },
    {
      "cell_type": "markdown",
      "source": [
        "## Conclusão\n",
        "\n",
        "O A* destacou-se como o algoritmo mais eficiente no geral: rápido, econômico em memória e sempre retornando a solução ótima. A busca gulosa foi ainda mais rápida, mas não garantiu otimalidade.\n",
        "\n",
        "Em termos de eficiência:\n",
        "\n",
        "Melhor geral: A*, pelo ótimo equilíbrio entre tempo, memória e qualidade.\n",
        "\n",
        "Mais rápido: Busca Gulosa, mas sem garantia de qualidade.\n",
        "\n",
        "Mais confiável, mas pesado: BFS.\n",
        "\n",
        "Alternativa de baixo uso de memória: IDFS, embora lenta.\n",
        "\n",
        "Pior desempenho geral: DFS, por falta de otimalidade e uso excessivo de profundidade e memória.\n",
        "\n",
        "Assim, para aplicações práticas que exigem qualidade e eficiência, A* é a melhor escolha dentre os cinco algoritmos avaliados"
      ],
      "metadata": {
        "id": "hsCUGKghnk2y"
      }
    },
    {
      "cell_type": "markdown",
      "source": [
        "#Código completo A*"
      ],
      "metadata": {
        "id": "o0x561KVTXDP"
      }
    },
    {
      "cell_type": "code",
      "source": [
        "import random\n",
        "import time\n",
        "import tracemalloc\n",
        "import heapq\n",
        "\n",
        "\n",
        "def heuristica_Manhatan(estado):\n",
        "    objetivo = {\n",
        "        1: (0, 0), 2: (0, 1), 3: (0, 2),\n",
        "        4: (1, 0), 5: (1, 1), 6: (1, 2),\n",
        "        7: (2, 0), 8: (2, 1), 0: (2, 2)\n",
        "    }\n",
        "    distancia = 0\n",
        "    for i in range(3):\n",
        "        for j in range(3):\n",
        "            valor = estado[i][j]\n",
        "            if valor != 0:\n",
        "                objetivo_i, objetivo_j = objetivo[valor]\n",
        "                distancia += abs(i - objetivo_i) + abs(j - objetivo_j)\n",
        "    return distancia\n",
        "\n",
        "def a_estrela(estado_inicial):\n",
        "    prioridade = []\n",
        "    heapq.heappush(prioridade, (heuristica_Manhatan(estado_inicial), 0, estado_inicial))\n",
        "\n",
        "    estado_anterior = {}\n",
        "    custo_real = {tuple(map(tuple, estado_inicial)): 0}\n",
        "    estados_visitados = set()\n",
        "\n",
        "    node_expanded = 0\n",
        "    max_depth = 0\n",
        "    max_fringe_size = 1\n",
        "\n",
        "    while prioridade:\n",
        "        _, custo_atual, estado_atual = heapq.heappop(prioridade)\n",
        "        estado_atual_tupla = tuple(map(tuple, estado_atual))\n",
        "\n",
        "        if estado_atual_tupla in estados_visitados:\n",
        "            continue\n",
        "\n",
        "        estados_visitados.add(estado_atual_tupla)\n",
        "        node_expanded += 1\n",
        "\n",
        "        if estado_esperado(estado_atual):\n",
        "            return (caminho_total(estado_anterior, estado_atual), node_expanded, custo_atual, max_depth, len(prioridade), max_fringe_size)\n",
        "\n",
        "        for vizinho in vizinhos(estado_atual):\n",
        "            tupla_vizinho = tuple(map(tuple, vizinho))\n",
        "            novo_custo = custo_real[estado_atual_tupla] + 1\n",
        "\n",
        "            if tupla_vizinho not in custo_real or novo_custo < custo_real[tupla_vizinho]:\n",
        "                custo_real[tupla_vizinho] = novo_custo\n",
        "                f = novo_custo + heuristica_Manhatan(vizinho)\n",
        "                heapq.heappush(prioridade, (f, novo_custo, vizinho))\n",
        "                estado_anterior[tupla_vizinho] = estado_atual_tupla\n",
        "                max_depth = max(max_depth, novo_custo)\n",
        "                max_fringe_size = max(max_fringe_size, len(prioridade))\n",
        "\n",
        "    return None, node_expanded, 0, max_depth, 0, max_fringe_size\n",
        "\n",
        "def estado_esperado(estado_atual):\n",
        "    esperado = [[1, 2, 3], [4, 5, 6], [7, 8, 0]]\n",
        "    return estado_atual == esperado\n",
        "\n",
        "def vizinhos(estado_atual):\n",
        "    vizinho = []\n",
        "    row, col = next((r, c) for r in range(3) for c in range(3) if estado_atual[r][c] == 0)\n",
        "\n",
        "    for dr, dc in [(-1, 0), (1, 0), (0, -1), (0, 1)]:\n",
        "        novo_r, novo_c = row + dr, col + dc\n",
        "        if 0 <= novo_r < 3 and 0 <= novo_c < 3:\n",
        "            novo_estado = [linha[:] for linha in estado_atual]\n",
        "            novo_estado[row][col], novo_estado[novo_r][novo_c] = novo_estado[novo_r][novo_c], novo_estado[row][col]\n",
        "            vizinho.append(novo_estado)\n",
        "\n",
        "    return vizinho\n",
        "\n",
        "def caminho_total(estado_anterior, estado_atual):\n",
        "    caminho = [estado_atual]\n",
        "    while tuple(map(tuple, estado_atual)) in estado_anterior:\n",
        "        estado_atual = [list(row) for row in estado_anterior[tuple(map(tuple, estado_atual))]]\n",
        "        caminho.append(estado_atual)\n",
        "    return caminho[::-1]\n",
        "\n",
        "def eh_soluvel(puzzle):\n",
        "    flat_puzzle = [num for row in puzzle for num in row if num != 0]\n",
        "    inversoes = 0\n",
        "    for i in range(len(flat_puzzle)):\n",
        "        for j in range(i + 1, len(flat_puzzle)):\n",
        "            if flat_puzzle[i] > flat_puzzle[j]:\n",
        "                inversoes += 1\n",
        "    return inversoes % 2 == 0\n",
        "\n",
        "def gerar_8puzzle():\n",
        "    while True:\n",
        "        elementos = list(range(9))\n",
        "        random.shuffle(elementos)\n",
        "        puzzle = [elementos[i:i+3] for i in range(0, 9, 3)]\n",
        "        if eh_soluvel(puzzle):\n",
        "            print(\"Estado inicial gerado:\")\n",
        "            for linha in puzzle:\n",
        "                print(linha)\n",
        "            return puzzle\n",
        "\n",
        "\n",
        "estado_inicial = gerar_8puzzle()\n",
        "\n",
        "\n",
        "inicio = time.time()\n",
        "solucao, nos_expandidos, search_depth, max_search_depth, fringe_size, max_fringe_size = a_estrela(estado_inicial)\n",
        "fim = time.time()\n",
        "\n",
        "if solucao:\n",
        "    print(f\"\\ncost_of_path: {len(solucao) - 1}\")\n",
        "    print(\"\\nPasso a passo da solução:\\n\")\n",
        "    for passo, estado in enumerate(solucao):\n",
        "        print(f\"Passo {passo}:\")\n",
        "        for linha in estado:\n",
        "            print(\" \".join(\" \" if x == 0 else str(x) for x in linha))\n",
        "        print(\"--------\")\n",
        "\n",
        "    print(f\"nodes_expanded: {nos_expandidos}\")\n",
        "    print(f\"running_time: {fim - inicio:.4f}\")\n",
        "    print(f\"search depth: {search_depth}\")\n",
        "    print(f\"max search depth: {max_search_depth}\")\n",
        "    print(f\"fringe_size: {fringe_size}\")\n",
        "    print(f\"max_fringe_size: {max_fringe_size}\")\n",
        "\n",
        "else:\n",
        "    print(\"Não foi possível encontrar uma solução.\")\n",
        "\n",
        "tracemalloc.start()\n",
        "a_estrela(estado_inicial)\n",
        "memoria_usada = tracemalloc.get_traced_memory()[1]\n",
        "tracemalloc.stop()\n",
        "print(f\"max_ram_usage: {memoria_usada}\")"
      ],
      "metadata": {
        "id": "0SiyRSckTaa3",
        "colab": {
          "base_uri": "https://localhost:8080/"
        },
        "outputId": "a78d1f97-1627-45ae-bd7f-74fb666885c1"
      },
      "execution_count": null,
      "outputs": [
        {
          "output_type": "stream",
          "name": "stdout",
          "text": [
            "Estado inicial gerado:\n",
            "[2, 6, 5]\n",
            "[0, 1, 4]\n",
            "[3, 8, 7]\n",
            "\n",
            "cost_of_path: 25\n",
            "\n",
            "Passo a passo da solução:\n",
            "\n",
            "Passo 0:\n",
            "2 6 5\n",
            "  1 4\n",
            "3 8 7\n",
            "--------\n",
            "Passo 1:\n",
            "2 6 5\n",
            "1   4\n",
            "3 8 7\n",
            "--------\n",
            "Passo 2:\n",
            "2 6 5\n",
            "1 4  \n",
            "3 8 7\n",
            "--------\n",
            "Passo 3:\n",
            "2 6 5\n",
            "1 4 7\n",
            "3 8  \n",
            "--------\n",
            "Passo 4:\n",
            "2 6 5\n",
            "1 4 7\n",
            "3   8\n",
            "--------\n",
            "Passo 5:\n",
            "2 6 5\n",
            "1   7\n",
            "3 4 8\n",
            "--------\n",
            "Passo 6:\n",
            "2 6 5\n",
            "1 7  \n",
            "3 4 8\n",
            "--------\n",
            "Passo 7:\n",
            "2 6  \n",
            "1 7 5\n",
            "3 4 8\n",
            "--------\n",
            "Passo 8:\n",
            "2   6\n",
            "1 7 5\n",
            "3 4 8\n",
            "--------\n",
            "Passo 9:\n",
            "  2 6\n",
            "1 7 5\n",
            "3 4 8\n",
            "--------\n",
            "Passo 10:\n",
            "1 2 6\n",
            "  7 5\n",
            "3 4 8\n",
            "--------\n",
            "Passo 11:\n",
            "1 2 6\n",
            "3 7 5\n",
            "  4 8\n",
            "--------\n",
            "Passo 12:\n",
            "1 2 6\n",
            "3 7 5\n",
            "4   8\n",
            "--------\n",
            "Passo 13:\n",
            "1 2 6\n",
            "3   5\n",
            "4 7 8\n",
            "--------\n",
            "Passo 14:\n",
            "1 2 6\n",
            "  3 5\n",
            "4 7 8\n",
            "--------\n",
            "Passo 15:\n",
            "  2 6\n",
            "1 3 5\n",
            "4 7 8\n",
            "--------\n",
            "Passo 16:\n",
            "2   6\n",
            "1 3 5\n",
            "4 7 8\n",
            "--------\n",
            "Passo 17:\n",
            "2 3 6\n",
            "1   5\n",
            "4 7 8\n",
            "--------\n",
            "Passo 18:\n",
            "2 3 6\n",
            "1 5  \n",
            "4 7 8\n",
            "--------\n",
            "Passo 19:\n",
            "2 3  \n",
            "1 5 6\n",
            "4 7 8\n",
            "--------\n",
            "Passo 20:\n",
            "2   3\n",
            "1 5 6\n",
            "4 7 8\n",
            "--------\n",
            "Passo 21:\n",
            "  2 3\n",
            "1 5 6\n",
            "4 7 8\n",
            "--------\n",
            "Passo 22:\n",
            "1 2 3\n",
            "  5 6\n",
            "4 7 8\n",
            "--------\n",
            "Passo 23:\n",
            "1 2 3\n",
            "4 5 6\n",
            "  7 8\n",
            "--------\n",
            "Passo 24:\n",
            "1 2 3\n",
            "4 5 6\n",
            "7   8\n",
            "--------\n",
            "Passo 25:\n",
            "1 2 3\n",
            "4 5 6\n",
            "7 8  \n",
            "--------\n",
            "nodes_expanded: 3244\n",
            "running_time: 0.1187\n",
            "search depth: 25\n",
            "max search depth: 25\n",
            "fringe_size: 1719\n",
            "max_fringe_size: 1720\n",
            "max_ram_usage: 3114347\n"
          ]
        }
      ]
    },
    {
      "cell_type": "markdown",
      "source": [
        "#Código completo Busca Gulosa"
      ],
      "metadata": {
        "id": "KDJ96gXbTaxo"
      }
    },
    {
      "cell_type": "code",
      "source": [
        "import random\n",
        "import time\n",
        "import tracemalloc\n",
        "import heapq\n",
        "from collections import deque\n",
        "\n",
        "def heuristica(estado):\n",
        "    objetivo = {\n",
        "        1: (0, 0), 2: (0, 1), 3: (0, 2),\n",
        "        4: (1, 0), 5: (1, 1), 6: (1, 2),\n",
        "        7: (2, 0), 8: (2, 1), 0: (2, 2)\n",
        "    }\n",
        "    distancia = 0\n",
        "    for i in range(3):\n",
        "        for j in range(3):\n",
        "            valor = estado[i][j]\n",
        "            if valor != 0:\n",
        "                objetivo_i, objetivo_j = objetivo[valor]\n",
        "                distancia += abs(i - objetivo_i) + abs(j - objetivo_j)\n",
        "    return distancia\n",
        "\n",
        "def busca_gulosa(estado_inicial):\n",
        "    objetivo = [[1,2,3],[4,5,6],[7,8,0]]\n",
        "    objetivo_tuple = tuple(map(tuple, objetivo))\n",
        "\n",
        "    fila = []\n",
        "    heapq.heappush(fila, (heuristica(estado_inicial), estado_inicial))\n",
        "\n",
        "    visitados = set()\n",
        "    estado_anterior = {}\n",
        "    profundidade = {tuple(map(tuple, estado_inicial)): 0}\n",
        "\n",
        "    max_fringe_size = 1\n",
        "    node_expanded = 0\n",
        "    max_depth = 0\n",
        "\n",
        "    while fila:\n",
        "        _, estado_atual = heapq.heappop(fila)\n",
        "        node_expanded += 1\n",
        "\n",
        "        estado_tupla = tuple(map(tuple, estado_atual))\n",
        "\n",
        "        if estado_tupla == objetivo_tuple:\n",
        "            return caminho_total(estado_anterior, estado_atual), node_expanded, profundidade[estado_tupla], max_depth, len(fila), max_fringe_size\n",
        "\n",
        "        if estado_tupla in visitados:\n",
        "            continue\n",
        "\n",
        "        visitados.add(estado_tupla)\n",
        "        profundidade_atual = profundidade[estado_tupla]\n",
        "\n",
        "        for vizinho in vizinhos(estado_atual):\n",
        "            tupla_vizinho = tuple(map(tuple, vizinho))\n",
        "            if tupla_vizinho not in visitados:\n",
        "                estado_anterior[tupla_vizinho] = estado_tupla\n",
        "                profundidade[tupla_vizinho] = profundidade_atual + 1\n",
        "                prioridade = heuristica(vizinho)\n",
        "                heapq.heappush(fila, (prioridade, vizinho))\n",
        "\n",
        "                max_depth = max(max_depth, profundidade[tupla_vizinho])\n",
        "                max_fringe_size = max(max_fringe_size, len(fila))\n",
        "\n",
        "    return None, node_expanded, 0, max_depth, 0, max_fringe_size\n",
        "\n",
        "def caminho_total(estado_anterior, estado_atual):\n",
        "    caminho = [estado_atual]\n",
        "    while tuple(map(tuple, estado_atual)) in estado_anterior:\n",
        "        estado_atual = [list(row) for row in estado_anterior[tuple(map(tuple, estado_atual))]]\n",
        "        caminho.append(estado_atual)\n",
        "    return caminho[::-1]\n",
        "\n",
        "def vizinhos(estado_atual):\n",
        "    vizinho = []\n",
        "    row, col = next((r, c) for r in range(3) for c in range(3) if estado_atual[r][c] == 0)\n",
        "    for dr, dc in [(-1, 0), (1, 0), (0, -1), (0, 1)]:\n",
        "        novo_r, novo_c = row + dr, col + dc\n",
        "        if 0 <= novo_r < 3 and 0 <= novo_c < 3:\n",
        "            novo_estado = [linha[:] for linha in estado_atual]\n",
        "            novo_estado[row][col], novo_estado[novo_r][novo_c] = novo_estado[novo_r][novo_c], novo_estado[row][col]\n",
        "            vizinho.append(novo_estado)\n",
        "    return vizinho\n",
        "\n",
        "def eh_soluvel(puzzle):\n",
        "    flat_puzzle = [num for row in puzzle for num in row if num != 0]\n",
        "    inversoes = 0\n",
        "    for i in range(len(flat_puzzle)):\n",
        "        for j in range(i + 1, len(flat_puzzle)):\n",
        "            if flat_puzzle[i] > flat_puzzle[j]:\n",
        "                inversoes += 1\n",
        "    return inversoes % 2 == 0\n",
        "\n",
        "def gerar_8puzzle():\n",
        "    while True:\n",
        "        elementos = list(range(9))\n",
        "        random.shuffle(elementos)\n",
        "        puzzle = [elementos[i:i+3] for i in range(0, 9, 3)]\n",
        "        if eh_soluvel(puzzle):\n",
        "            print(\"Estado inicial gerado:\")\n",
        "            for linha in puzzle:\n",
        "                print(linha)\n",
        "            return puzzle\n",
        "\n",
        "\n",
        "estado_inicial = gerar_8puzzle()\n",
        "\n",
        "inicio = time.time()\n",
        "solucao, nos_expandidos, search_depth, max_search_depth, fringe_size, max_fringe_size = busca_gulosa(estado_inicial)\n",
        "fim = time.time()\n",
        "\n",
        "if solucao:\n",
        "    print(f\"\\ncost_of_path: {len(solucao) - 1}\")\n",
        "    print(\"\\nPasso a passo da solução:\\n\")\n",
        "    for passo, estado in enumerate(solucao):\n",
        "        print(f\"Passo {passo}:\")\n",
        "        for linha in estado:\n",
        "            print(\" \".join(\" \" if x == 0 else str(x) for x in linha))\n",
        "        print(\"--------\")\n",
        "\n",
        "    print(f\"nodes_expanded: {nos_expandidos}\")\n",
        "    print(f\"running_time: {fim - inicio:.4f}\")\n",
        "    print(f\"search depth: {search_depth}\")\n",
        "    print(f\"max search depth: {max_search_depth}\")\n",
        "    print(f\"fringe_size: {fringe_size}\")\n",
        "    print(f\"max_fringe_size: {max_fringe_size}\")\n",
        "else:\n",
        "    print(\"Não foi possível encontrar uma solução.\")\n",
        "\n",
        "\n",
        "tracemalloc.start()\n",
        "busca_gulosa(estado_inicial)\n",
        "memoria_usada = tracemalloc.get_traced_memory()[1]\n",
        "tracemalloc.stop()\n",
        "print(f\"max_ram_usage: {memoria_usada}\")\n"
      ],
      "metadata": {
        "id": "_95ztDfHTe13",
        "colab": {
          "base_uri": "https://localhost:8080/"
        },
        "outputId": "d09269a5-8cb5-4d3f-c86e-bf51fe183eac"
      },
      "execution_count": null,
      "outputs": [
        {
          "output_type": "stream",
          "name": "stdout",
          "text": [
            "Estado inicial gerado:\n",
            "[4, 8, 0]\n",
            "[3, 5, 1]\n",
            "[7, 6, 2]\n",
            "\n",
            "cost_of_path: 30\n",
            "\n",
            "Passo a passo da solução:\n",
            "\n",
            "Passo 0:\n",
            "4 8  \n",
            "3 5 1\n",
            "7 6 2\n",
            "--------\n",
            "Passo 1:\n",
            "4 8 1\n",
            "3 5  \n",
            "7 6 2\n",
            "--------\n",
            "Passo 2:\n",
            "4 8 1\n",
            "3 5 2\n",
            "7 6  \n",
            "--------\n",
            "Passo 3:\n",
            "4 8 1\n",
            "3 5 2\n",
            "7   6\n",
            "--------\n",
            "Passo 4:\n",
            "4 8 1\n",
            "3   2\n",
            "7 5 6\n",
            "--------\n",
            "Passo 5:\n",
            "4   1\n",
            "3 8 2\n",
            "7 5 6\n",
            "--------\n",
            "Passo 6:\n",
            "4 1  \n",
            "3 8 2\n",
            "7 5 6\n",
            "--------\n",
            "Passo 7:\n",
            "4 1 2\n",
            "3 8  \n",
            "7 5 6\n",
            "--------\n",
            "Passo 8:\n",
            "4 1 2\n",
            "3 8 6\n",
            "7 5  \n",
            "--------\n",
            "Passo 9:\n",
            "4 1 2\n",
            "3 8 6\n",
            "7   5\n",
            "--------\n",
            "Passo 10:\n",
            "4 1 2\n",
            "3   6\n",
            "7 8 5\n",
            "--------\n",
            "Passo 11:\n",
            "4 1 2\n",
            "  3 6\n",
            "7 8 5\n",
            "--------\n",
            "Passo 12:\n",
            "  1 2\n",
            "4 3 6\n",
            "7 8 5\n",
            "--------\n",
            "Passo 13:\n",
            "1   2\n",
            "4 3 6\n",
            "7 8 5\n",
            "--------\n",
            "Passo 14:\n",
            "1 2  \n",
            "4 3 6\n",
            "7 8 5\n",
            "--------\n",
            "Passo 15:\n",
            "1 2 6\n",
            "4 3  \n",
            "7 8 5\n",
            "--------\n",
            "Passo 16:\n",
            "1 2 6\n",
            "4 3 5\n",
            "7 8  \n",
            "--------\n",
            "Passo 17:\n",
            "1 2 6\n",
            "4 3 5\n",
            "7   8\n",
            "--------\n",
            "Passo 18:\n",
            "1 2 6\n",
            "4   5\n",
            "7 3 8\n",
            "--------\n",
            "Passo 19:\n",
            "1 2 6\n",
            "4 5  \n",
            "7 3 8\n",
            "--------\n",
            "Passo 20:\n",
            "1 2  \n",
            "4 5 6\n",
            "7 3 8\n",
            "--------\n",
            "Passo 21:\n",
            "1   2\n",
            "4 5 6\n",
            "7 3 8\n",
            "--------\n",
            "Passo 22:\n",
            "1 5 2\n",
            "4   6\n",
            "7 3 8\n",
            "--------\n",
            "Passo 23:\n",
            "1 5 2\n",
            "4 3 6\n",
            "7   8\n",
            "--------\n",
            "Passo 24:\n",
            "1 5 2\n",
            "4 3 6\n",
            "7 8  \n",
            "--------\n",
            "Passo 25:\n",
            "1 5 2\n",
            "4 3  \n",
            "7 8 6\n",
            "--------\n",
            "Passo 26:\n",
            "1 5 2\n",
            "4   3\n",
            "7 8 6\n",
            "--------\n",
            "Passo 27:\n",
            "1   2\n",
            "4 5 3\n",
            "7 8 6\n",
            "--------\n",
            "Passo 28:\n",
            "1 2  \n",
            "4 5 3\n",
            "7 8 6\n",
            "--------\n",
            "Passo 29:\n",
            "1 2 3\n",
            "4 5  \n",
            "7 8 6\n",
            "--------\n",
            "Passo 30:\n",
            "1 2 3\n",
            "4 5 6\n",
            "7 8  \n",
            "--------\n",
            "nodes_expanded: 79\n",
            "running_time: 0.0013\n",
            "search depth: 30\n",
            "max search depth: 30\n",
            "fringe_size: 48\n",
            "max_fringe_size: 49\n",
            "max_ram_usage: 59057\n"
          ]
        }
      ]
    }
  ]
}
